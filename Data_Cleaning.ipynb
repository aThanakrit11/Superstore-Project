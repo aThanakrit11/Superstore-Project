{
  "nbformat": 4,
  "nbformat_minor": 0,
  "metadata": {
    "colab": {
      "provenance": []
    },
    "kernelspec": {
      "name": "python3",
      "display_name": "Python 3"
    },
    "language_info": {
      "name": "python"
    }
  },
  "cells": [
    {
      "cell_type": "code",
      "source": [
        "from google.colab import drive\n",
        "drive.mount('/content/drive')"
      ],
      "metadata": {
        "id": "zciDkvvq4xm8"
      },
      "execution_count": null,
      "outputs": []
    },
    {
      "cell_type": "code",
      "execution_count": null,
      "metadata": {
        "id": "PmypB3Ld1zGF"
      },
      "outputs": [],
      "source": [
        "import pandas as pd\n",
        "file_path = '/content/drive/MyDrive/Superstore.csv'\n"
      ]
    },
    {
      "cell_type": "code",
      "source": [
        "df = pd.read_csv(file_path)"
      ],
      "metadata": {
        "id": "LR_kF65F3c2l"
      },
      "execution_count": null,
      "outputs": []
    },
    {
      "cell_type": "code",
      "source": [
        "# Display the first 5 rows of the DataFrame\n",
        "df.head(5)"
      ],
      "metadata": {
        "id": "nppIOMMV68qP"
      },
      "execution_count": null,
      "outputs": []
    },
    {
      "cell_type": "code",
      "source": [
        "# Get an overview of the DataFrame structure\n",
        "df.info()"
      ],
      "metadata": {
        "id": "1iNyTKz8ASfK"
      },
      "execution_count": null,
      "outputs": []
    },
    {
      "cell_type": "code",
      "source": [
        "# Drop the column because it is empty and contains no useful data.\n",
        "df.drop(columns=['Unnamed: 22'],inplace = True)"
      ],
      "metadata": {
        "id": "YmpwiDgdBKYL"
      },
      "execution_count": null,
      "outputs": []
    },
    {
      "cell_type": "code",
      "source": [
        "# Rename columns for better clarity and consistency.\n",
        "df.columns = ['Index','Order_Id','Date','Status','Fulfilment','Sales_Channel','ShipServiceLevel','Style','SKU','Category','Size','ASIN','CourierStatus','Qty','Currency','Amount','Ship_City','Ship_State','Ship_Postal_Code','Ship_Country','Promotion','B2B','Fulfilled_By']"
      ],
      "metadata": {
        "id": "0E89tgtD-zkp"
      },
      "execution_count": null,
      "outputs": []
    },
    {
      "cell_type": "code",
      "source": [
        "# Check all values in the 'Order_Id' column are unique\n",
        "# Since 'order_id' is not unique, we will use the default index as the primary index.\n",
        "df['Order_Id'].is_unique"
      ],
      "metadata": {
        "id": "pRcVRanVCLjg"
      },
      "execution_count": null,
      "outputs": []
    },
    {
      "cell_type": "code",
      "source": [
        "# Convert 'Date' column to datetime type\n",
        "df['Date'] = pd.to_datetime(df['Date'])"
      ],
      "metadata": {
        "id": "HSCjUCq6RNES"
      },
      "execution_count": null,
      "outputs": []
    },
    {
      "cell_type": "code",
      "source": [
        "# Check for missing values in the DataFrame\n",
        "df.isnull().sum()"
      ],
      "metadata": {
        "id": "jMQEzvmbV41Z"
      },
      "execution_count": null,
      "outputs": []
    },
    {
      "cell_type": "code",
      "source": [
        "# Drop the column because it is empty more than 70% and contains no useful data.\n",
        "df.drop(columns=['Fulfilled_By'],inplace = True)\n"
      ],
      "metadata": {
        "id": "84GqCRAmb-HQ"
      },
      "execution_count": null,
      "outputs": []
    },
    {
      "cell_type": "code",
      "source": [
        "# Filter rows with null values in 'Promotion' column\n",
        "df[df['Promotion'].isnull()]"
      ],
      "metadata": {
        "id": "8wpYMfT-Gj9j"
      },
      "execution_count": null,
      "outputs": []
    },
    {
      "cell_type": "code",
      "source": [
        "# Drop the 'Promotion' column from the DataFrame\n",
        "df.drop(columns=['Promotion'],inplace = True)"
      ],
      "metadata": {
        "id": "xqaaT54nHB-0"
      },
      "execution_count": null,
      "outputs": []
    },
    {
      "cell_type": "code",
      "source": [
        "# Filter rows with missing values in 'Ship_Country' column\n",
        "df[df['Ship_Country'].isnull()]"
      ],
      "metadata": {
        "id": "pGT5ORZkH0xl"
      },
      "execution_count": null,
      "outputs": []
    },
    {
      "cell_type": "code",
      "source": [
        "# Replace missing values in 'Ship_Country','Ship_State','Ship_City' and 'Ship_Postal_Code' with 'Unknown'\n",
        "df['Ship_Country'].fillna('Unknown', inplace=True)\n",
        "df['Ship_State'].fillna('Unknown', inplace=True)\n",
        "df['Ship_City'].fillna('Unknown', inplace=True)\n",
        "df['Ship_Postal_Code'].fillna('Unknown', inplace=True)"
      ],
      "metadata": {
        "id": "OrResJcbIlg6"
      },
      "execution_count": null,
      "outputs": []
    },
    {
      "cell_type": "code",
      "source": [
        "# Filter rows with null values in 'CourierStatus' column\n",
        "df[df['CourierStatus'].isnull()]"
      ],
      "metadata": {
        "id": "RFS0VMDCXiGc"
      },
      "execution_count": null,
      "outputs": []
    },
    {
      "cell_type": "code",
      "source": [
        "# The missing values in 'CourierStatus' are due to 'Status' being 'Cancelled', so fill nulls with 'Cancelled'\n",
        "df['CourierStatus'].fillna('Cancelled', inplace=True)"
      ],
      "metadata": {
        "id": "PJSsZFMucCE-"
      },
      "execution_count": null,
      "outputs": []
    },
    {
      "cell_type": "code",
      "source": [
        "# Replace null values in 'Currency' with 'INR'\n",
        "df['Currency'].fillna('INR', inplace=True)"
      ],
      "metadata": {
        "id": "9IR80GQVaMca"
      },
      "execution_count": null,
      "outputs": []
    },
    {
      "cell_type": "code",
      "source": [
        "# Fill missing values in the 'Amount' column with 0\n",
        "df.fillna({'Amount':0},inplace= True)"
      ],
      "metadata": {
        "id": "iyhHdBEqYbQb"
      },
      "execution_count": null,
      "outputs": []
    },
    {
      "cell_type": "code",
      "source": [
        "df.isnull().sum()"
      ],
      "metadata": {
        "id": "M_mvPgYrcObq"
      },
      "execution_count": null,
      "outputs": []
    },
    {
      "cell_type": "code",
      "source": [
        "df.describe()"
      ],
      "metadata": {
        "id": "3lPQYrk0cXt7"
      },
      "execution_count": null,
      "outputs": []
    },
    {
      "cell_type": "code",
      "source": [
        "df.info()"
      ],
      "metadata": {
        "id": "9hLXtMlMcwgD"
      },
      "execution_count": null,
      "outputs": []
    },
    {
      "cell_type": "code",
      "source": [
        "df.to_csv('/content/drive/My Drive/Cleans.csv', index=False)\n",
        "df.to_excel('/content/drive/My Drive/Cleans.xlsx', index=False)"
      ],
      "metadata": {
        "id": "-ZaO0wLBdnMv"
      },
      "execution_count": null,
      "outputs": []
    }
  ]
}