{
  "nbformat": 4,
  "nbformat_minor": 0,
  "metadata": {
    "colab": {
      "provenance": []
    },
    "kernelspec": {
      "name": "python3",
      "display_name": "Python 3"
    },
    "language_info": {
      "name": "python"
    }
  },
  "cells": [
    {
      "cell_type": "code",
      "execution_count": null,
      "metadata": {
        "id": "FeT7W8TB_OOs"
      },
      "outputs": [],
      "source": [
        "from google.colab import drive\n",
        "drive.mount('/content/drive')"
      ]
    },
    {
      "cell_type": "code",
      "source": [
        "import pandas as pd\n",
        "import matplotlib.pyplot as plt\n",
        "from matplotlib.ticker import FuncFormatter\n",
        "file_path = '/content/drive/MyDrive/Cleans.xlsx'"
      ],
      "metadata": {
        "id": "0_j1zvYE_dR9"
      },
      "execution_count": null,
      "outputs": []
    },
    {
      "cell_type": "code",
      "source": [
        "\"\"\"Introduction\n",
        "Goal:Top-selling products,Total Sales per Month & Sale Trend,Percentage of Canceled Orders,Top 3 States & City with Canceled Orders,\n",
        "    Proportion of Service Levels (Standard vs. Expedited)\"\"\"\n",
        "df = pd.read_excel(file_path)\n",
        "df"
      ],
      "metadata": {
        "id": "Ivy9h6Qg_09K"
      },
      "execution_count": null,
      "outputs": []
    },
    {
      "cell_type": "code",
      "source": [
        "df.info()"
      ],
      "metadata": {
        "id": "V8o2qONxY_n9"
      },
      "execution_count": null,
      "outputs": []
    },
    {
      "cell_type": "code",
      "source": [
        "df.columns"
      ],
      "metadata": {
        "id": "eob3bl2TCsST"
      },
      "execution_count": null,
      "outputs": []
    },
    {
      "cell_type": "code",
      "source": [
        "# Calculate the percentage of orders that were cancelled\n",
        "Cancelled_Order = df[df['CourierStatus'] == 'Cancelled'].shape[0]\n",
        "Total_Order = df.shape[0]\n",
        "Cancelled_Percent = Cancelled_Order / Total_Order * 100\n",
        "print(f\"Percentage of cancelled orders: {Cancelled_Percent:.2f}%\")"
      ],
      "metadata": {
        "id": "OCsqTyjLEgo-"
      },
      "execution_count": null,
      "outputs": []
    },
    {
      "cell_type": "code",
      "source": [
        "#Top 3 state cancelled\n",
        "State_Cancelled = df[df['CourierStatus'] == 'Cancelled']\n",
        "Cancelled_By_State = State_Cancelled['Ship_State'].value_counts().head(3)\n",
        "Cancelled_By_State"
      ],
      "metadata": {
        "id": "qQqMAHp3FMhP"
      },
      "execution_count": null,
      "outputs": []
    },
    {
      "cell_type": "code",
      "source": [
        "#Top 3 city cancelled\n",
        "City_Cancelled = df[df['CourierStatus'] == 'Cancelled']\n",
        "Cancelled_By_City = City_Cancelled['Ship_City'].value_counts().head(3)\n",
        "Cancelled_By_City"
      ],
      "metadata": {
        "id": "4riWaAAfHAH8"
      },
      "execution_count": null,
      "outputs": []
    },
    {
      "cell_type": "code",
      "source": [
        "# Set the background color of the plot to black\n",
        "plt.style.use('dark_background')\n",
        "\n",
        "# Count the number of orders for each service level (Standard and Expedited)\n",
        "Service_Level_Counts = df['ShipServiceLevel'].value_counts()\n",
        "\n",
        "# Get the counts for 'Standard' and 'Expedited' (if not present, default to 0)\n",
        "Standard_Count = Service_Level_Counts.get('Standard', 0)\n",
        "Expedited_Count = Service_Level_Counts.get('Expedited', 0)\n",
        "\n",
        "# Data for the pie chart\n",
        "labels = ['Standard', 'Expedited']\n",
        "sizes = [Standard_Count, Expedited_Count]\n",
        "\n",
        "# Create the pie chart with percentages shown on the chart\n",
        "plt.figure(figsize=(6,6))\n",
        "plt.pie(sizes, labels=labels, autopct='%1.1f%%', startangle=140, colors=['white', 'skyblue'])\n",
        "\n",
        "# Set the title of the plot\n",
        "plt.title('Proportion of Service Level (Standard vs Expedited)', color='white')\n",
        "\n",
        "# Display the plot\n",
        "plt.show()\n"
      ],
      "metadata": {
        "id": "K_Xux9WLHZd7"
      },
      "execution_count": null,
      "outputs": []
    },
    {
      "cell_type": "markdown",
      "source": [
        "'Most customers prefer Expedited service, it suggests that delivery speed is an important factor in their purchasing decisions.'"
      ],
      "metadata": {
        "id": "c-GFUNLgvURf"
      }
    },
    {
      "cell_type": "code",
      "source": [
        "# Create a bar chart for total sales per month\n",
        "df['Date'] = pd.to_datetime(df['Date']).dt.month\n",
        "monthly_sales = df.groupby('Date')['Amount'].sum()\n",
        "monthly_sales.plot(kind='bar', figsize=(10, 6), color='skyblue')\n",
        "\n",
        "# Set the title of the chart\n",
        "plt.title('Total Sales Per Month', fontsize=16)\n",
        "\n",
        "# Set the labels for the X and Y axes\n",
        "plt.xlabel('Month', fontsize=12)\n",
        "plt.ylabel('Total Sales', fontsize=12)\n",
        "\n",
        "# Use FuncFormatter to display the Y-axis labels as full numbers (without scientific notation)\n",
        "formatter = FuncFormatter(lambda x, _: f'{x:,.0f}')\n",
        "plt.gca().yaxis.set_major_formatter(formatter)\n",
        "\n",
        "# Display the chart\n",
        "plt.show()"
      ],
      "metadata": {
        "id": "37pYYn3mOL9v"
      },
      "execution_count": null,
      "outputs": []
    },
    {
      "cell_type": "markdown",
      "source": [
        "\"From the Total sales data of the past 3 months, there is a clear short-term downward trend in sales.\""
      ],
      "metadata": {
        "id": "SobSA_N8v8hZ"
      }
    },
    {
      "cell_type": "code",
      "source": [
        "#Top 3 Category\n",
        "Top_Cat = df.groupby('Category')['Amount'].size().sort_values(ascending=False).head(3)\n",
        "Top_Cat"
      ],
      "metadata": {
        "id": "wcaocWWNYr39"
      },
      "execution_count": null,
      "outputs": []
    },
    {
      "cell_type": "markdown",
      "source": [
        "\"Set as the Category with the highest sales and approximately 40% of total orders.\""
      ],
      "metadata": {
        "id": "IUNAnYQ8xEfI"
      }
    },
    {
      "cell_type": "markdown",
      "source": [
        " Key Insights\n",
        "\n",
        "\n",
        "1.  -Total sales data of the past 3 months, there is a clear short-term downward trend in sales.\n",
        "\n",
        "2. -Most customers prefer Expedited\n",
        "3. -\"Set\" as the Category with the highest sales and approximately 40% of total orders."
      ],
      "metadata": {
        "id": "5w24llu3x5fs"
      }
    },
    {
      "cell_type": "markdown",
      "source": [
        "Recommendations\n",
        "\n",
        "Boost short-term sales: Investigate possible reasons for the recent decline (Ex. seasonal effects, end of promotions, stock issues). Launch short-term promotions or marketing campaigns during low-sales periods to recover momentum.\n",
        "\n",
        "Leverage shipping preference: Since customers prefer Expedited shipping, ensure service quality and delivery consistency. Offer limited-time shipping discounts to encourage more customers to choose Expedited service.\n",
        "\n",
        "Focus on the “Set” category: Invest in expanding or promoting products under the “Set” category, as it generates the highest revenue share. Analyze sub-products in this category to identify new opportunities for product bundling or cross-selling."
      ],
      "metadata": {
        "id": "WA7Yok2ezrIi"
      }
    },
    {
      "cell_type": "markdown",
      "source": [
        "Conclusion\n",
        "\n",
        "From the E-commerce sales  \n",
        "\n",
        "-A short-term decline in overall sales, requiring proactive marketing actions.\n",
        "\n",
        "-A strong customer preference for fast delivery, highlighting logistics as a competitive advantage.\n",
        "\n",
        "-The “Set” category is the main revenue driver and should remain a focus for future sales growth.\n",
        "\n",
        "\n",
        "In summary: Maintaining efficient Expedited delivery services, reinforcing marketing efforts for high-performing categories, and running targeted promotions during slow sales periods can help sustain growth and improve customer satisfaction."
      ],
      "metadata": {
        "id": "m4Qq-5iK0Yf7"
      }
    }
  ]
}